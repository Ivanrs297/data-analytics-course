{
 "cells": [
  {
   "cell_type": "markdown",
   "metadata": {},
   "source": [
    "# Collatz Activity"
   ]
  },
  {
   "cell_type": "code",
   "execution_count": 13,
   "metadata": {},
   "outputs": [
    {
     "data": {
      "text/plain": [
       "([6, 3.0, 10.0, 5.0, 16.0, 8.0, 4.0, 2.0, 1.0], 9)"
      ]
     },
     "execution_count": 13,
     "metadata": {},
     "output_type": "execute_result"
    }
   ],
   "source": [
    "def collatz(i):\n",
    "    seq = [i]\n",
    "\n",
    "    while(i > 1):\n",
    "\n",
    "        # even\n",
    "        if( i % 2 == 0):\n",
    "            i = i / 2\n",
    "            seq.append(i)\n",
    "        # odd\n",
    "        else:\n",
    "            i = 3 * i + 1\n",
    "            seq.append(i)\n",
    "\n",
    "    return seq, len(seq)\n",
    "\n",
    "collatz(6)"
   ]
  },
  {
   "cell_type": "code",
   "execution_count": 15,
   "metadata": {},
   "outputs": [
    {
     "name": "stdout",
     "output_type": "stream",
     "text": [
      "Collatz Sequence,  [9, 28, 14.0, 7.0, 22.0, 11.0, 34.0, 17.0, 52.0, 26.0, 13.0, 40.0, 20.0, 10.0, 5.0, 16.0, 8.0, 4.0, 2.0, 1.0]\n",
      "Collatz Length,  20\n"
     ]
    }
   ],
   "source": [
    "a = 1\n",
    "b = 10\n",
    "\n",
    "# longest collatz so far\n",
    "x_len = 0\n",
    "x_seq = []\n",
    "\n",
    "for i in range(a, b + 1):\n",
    "    seq, length = collatz(i)\n",
    "\n",
    "    if length > x_len:\n",
    "        # new longest\n",
    "        x_len = length\n",
    "        x_seq = seq\n",
    "\n",
    "print(\"Collatz Sequence, \", x_seq)\n",
    "print(\"Collatz Length, \", x_len)"
   ]
  },
  {
   "cell_type": "code",
   "execution_count": null,
   "metadata": {},
   "outputs": [],
   "source": []
  }
 ],
 "metadata": {
  "kernelspec": {
   "display_name": "iteso",
   "language": "python",
   "name": "python3"
  },
  "language_info": {
   "codemirror_mode": {
    "name": "ipython",
    "version": 3
   },
   "file_extension": ".py",
   "mimetype": "text/x-python",
   "name": "python",
   "nbconvert_exporter": "python",
   "pygments_lexer": "ipython3",
   "version": "3.10.13"
  }
 },
 "nbformat": 4,
 "nbformat_minor": 2
}
