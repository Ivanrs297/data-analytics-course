{
  "nbformat": 4,
  "nbformat_minor": 0,
  "metadata": {
    "colab": {
      "provenance": [],
      "authorship_tag": "ABX9TyO+lWVY50eO+RbRszcHrAPP",
      "include_colab_link": true
    },
    "kernelspec": {
      "name": "python3",
      "display_name": "Python 3"
    },
    "language_info": {
      "name": "python"
    }
  },
  "cells": [
    {
      "cell_type": "markdown",
      "metadata": {
        "id": "view-in-github",
        "colab_type": "text"
      },
      "source": [
        "<a href=\"https://colab.research.google.com/github/Ivanrs297/data-analytics-course/blob/main/lecture_1.ipynb\" target=\"_parent\"><img src=\"https://colab.research.google.com/assets/colab-badge.svg\" alt=\"Open In Colab\"/></a>"
      ]
    },
    {
      "cell_type": "code",
      "execution_count": 1,
      "metadata": {
        "colab": {
          "base_uri": "https://localhost:8080/"
        },
        "id": "R2KEw0fxFK_x",
        "outputId": "794ff4fb-f3e0-4a58-a3dc-466d8db22907"
      },
      "outputs": [
        {
          "output_type": "stream",
          "name": "stdout",
          "text": [
            "hello world\n"
          ]
        }
      ],
      "source": [
        "print(\"hello world\")"
      ]
    },
    {
      "cell_type": "code",
      "source": [],
      "metadata": {
        "id": "bvXdAIPmF2C3"
      },
      "execution_count": null,
      "outputs": []
    },
    {
      "cell_type": "markdown",
      "source": [
        "$X_a = c + b + (s^2)/2$\n",
        "\n",
        "Conditonal Probability\n",
        "\n",
        "$$\n",
        "P(x) = p(x|y)\n",
        "$$\n",
        "\n",
        "$$\n",
        "P(x) = p(x|y)\n",
        "$$\n",
        "\n",
        "$$\n",
        "P(x) = p(x|y)\n",
        "$$\n",
        "\n",
        "$$\n",
        "P(x) = p(x|y)\n",
        "$$"
      ],
      "metadata": {
        "id": "8RsX_vxfGN6T"
      }
    },
    {
      "cell_type": "code",
      "source": [],
      "metadata": {
        "id": "0T9o7tnRGVLl"
      },
      "execution_count": null,
      "outputs": []
    }
  ]
}